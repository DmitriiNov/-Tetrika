{
 "cells": [
  {
   "cell_type": "markdown",
   "metadata": {},
   "source": [
    "Дан массив целых чисел array и целое число k. Нужно вывести все уникальные пары чисел из массива, сумма которых равна k.\n",
    "\n",
    "Примечание: под уникальностью понимается следующее: если ответу удовлетворяет несколько пар вида (a, b) и (b, a), то достаточно вывести только одну пару (a, b).\n",
    "\n",
    "\n",
    "def search_pairs(array, k):\n",
    "....\n",
    "\n",
    "\n",
    "print(search_pairs([1, 2, 6, 5, 3, 4, 7, 8, 3, 2], 5))\n",
    "\n",
    "OUT: >> [(1, 4), (2, 3)]\n",
    "\n",
    "\n",
    "Вопросы:\n",
    "- Какая сложность у вашего алгоритма?\n",
    "- Можно ли его оптимизировать?"
   ]
  },
  {
   "cell_type": "code",
   "execution_count": 1,
   "metadata": {},
   "outputs": [],
   "source": [
    "def search_pairs(array, k):\n",
    "    answer = []\n",
    "    minimum = min(array)\n",
    "    arraySet = set(array)\n",
    "    arraySet2 = arraySet.copy()\n",
    "    for element_1 in arraySet:\n",
    "        for element_2 in arraySet2:\n",
    "            if element_1 + element_2 == k:\n",
    "                answer.append([element_1, element_2])\n",
    "        if element_1 + minimum >= k:\n",
    "            break\n",
    "        arraySet2.remove(element_1)\n",
    "    return(answer)\n"
   ]
  },
  {
   "cell_type": "code",
   "execution_count": null,
   "metadata": {},
   "outputs": [],
   "source": []
  },
  {
   "cell_type": "code",
   "execution_count": 2,
   "metadata": {},
   "outputs": [
    {
     "name": "stdout",
     "output_type": "stream",
     "text": [
      "[[1, 4], [2, 3]]\n"
     ]
    }
   ],
   "source": [
    "print(search_pairs([1, 2, 6, 5, 3, 4, 7, 8, 3, 2], 5))"
   ]
  },
  {
   "cell_type": "markdown",
   "metadata": {},
   "source": [
    "## Сложность алгоритма\n",
    "set() -> O(n) \n",
    "\n",
    "copy() -> O(n)\n",
    "\n",
    "double cycle -> O((n + 1)\*n/2) (((n + 1)\*n/2) из-за удаления элемента множества)\n",
    "\n",
    "remove() -> O(1)\n",
    "\n",
    "Сложность алгоритма -> O(n) + O(n) + O((n + 1)\*n/2) + O(1) = O(n^2)\n",
    "\n",
    "## Можно ли его оптимизировать\n",
    "\n",
    "Думаю, что алгоритм можно оптимизировать, но, к сожалению, не могу понять как\n"
   ]
  }
 ],
 "metadata": {
  "kernelspec": {
   "display_name": "Python 3",
   "language": "python",
   "name": "python3"
  },
  "language_info": {
   "codemirror_mode": {
    "name": "ipython",
    "version": 3
   },
   "file_extension": ".py",
   "mimetype": "text/x-python",
   "name": "python",
   "nbconvert_exporter": "python",
   "pygments_lexer": "ipython3",
   "version": "3.6.5"
  }
 },
 "nbformat": 4,
 "nbformat_minor": 4
}
