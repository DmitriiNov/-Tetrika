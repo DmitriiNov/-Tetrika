{
 "cells": [
  {
   "cell_type": "markdown",
   "metadata": {},
   "source": [
    "Факториал числа n равен произведению всех чисел от 1 до n, то есть:\n",
    "n! = 1 * 2 * 3 * ... * n\n",
    "\n",
    "Написать функцию, которая возвращает количество идущих подряд нулей на конце n!.\n",
    "\n",
    "def get_zeros(n):\n",
    "....\n",
    "\n",
    "print(get_zeros(5))\n",
    "OUT: >> 1\n",
    "\n",
    "print(get_zeros(12))\n",
    "OUT: >> 2"
   ]
  },
  {
   "cell_type": "code",
   "execution_count": 1,
   "metadata": {},
   "outputs": [],
   "source": [
    "def get_zeros(number):\n",
    "    count_2 = 0\n",
    "    count_5 = 0\n",
    "    count_10 = 0\n",
    "    for n in range(1, number + 1):\n",
    "        while True:\n",
    "            if n % 10 == 0: \n",
    "                n /= 10\n",
    "                count_10 += 1\n",
    "            elif n % 5 == 0: \n",
    "                n /= 5\n",
    "                count_5 += 1\n",
    "            elif n % 2 == 0: \n",
    "                n /= 2\n",
    "                count_2 += 1\n",
    "            else: break\n",
    "    return count_10 + min(count_2, count_5)"
   ]
  },
  {
   "cell_type": "code",
   "execution_count": 2,
   "metadata": {},
   "outputs": [
    {
     "name": "stdout",
     "output_type": "stream",
     "text": [
      "2\n"
     ]
    }
   ],
   "source": [
    "print(get_zeros(12))"
   ]
  }
 ],
 "metadata": {
  "kernelspec": {
   "display_name": "Python 3",
   "language": "python",
   "name": "python3"
  },
  "language_info": {
   "codemirror_mode": {
    "name": "ipython",
    "version": 3
   },
   "file_extension": ".py",
   "mimetype": "text/x-python",
   "name": "python",
   "nbconvert_exporter": "python",
   "pygments_lexer": "ipython3",
   "version": "3.6.5"
  }
 },
 "nbformat": 4,
 "nbformat_minor": 4
}
